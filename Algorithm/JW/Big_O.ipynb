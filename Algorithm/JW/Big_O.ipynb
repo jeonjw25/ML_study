{
  "nbformat": 4,
  "nbformat_minor": 0,
  "metadata": {
    "colab": {
      "name": "Untitled0.ipynb",
      "provenance": []
    },
    "kernelspec": {
      "name": "python3",
      "display_name": "Python 3"
    },
    "language_info": {
      "name": "python"
    }
  },
  "cells": [
    {
      "cell_type": "markdown",
      "metadata": {
        "id": "pH_Iqasssh0q"
      },
      "source": [
        "# O(n^2) 과 O(n) 수행시간 비교"
      ]
    },
    {
      "cell_type": "code",
      "metadata": {
        "id": "upHRXt7Zr5Lb"
      },
      "source": [
        "import time, random\n",
        "import matplotlib.pyplot as plt"
      ],
      "execution_count": 6,
      "outputs": []
    },
    {
      "cell_type": "code",
      "metadata": {
        "id": "96iisg8psE1k"
      },
      "source": [
        "def evaluate_n2(A, x):\n",
        "  sum = 0\n",
        "  for i in range(0, len(A)):\n",
        "    val = 1\n",
        "    for j in range(0, i):\n",
        "      val *= x\n",
        "    sum += A[i] * val\n",
        "  return sum"
      ],
      "execution_count": 3,
      "outputs": []
    },
    {
      "cell_type": "code",
      "metadata": {
        "id": "YaOHdZV4sFEJ"
      },
      "source": [
        "def evaluate_n(A, x):\n",
        "\tsum = 0\n",
        "\tval = 1\n",
        "\tX = []\n",
        "\tfor i in range(0, len(A)):\n",
        "\t\tval *= x\n",
        "\t\tX.append(val)\n",
        "\t\t\n",
        "\tfor i in range(0, len(A)):\n",
        "\t\tsum += A[i]*X[i]\n",
        "\treturn sum"
      ],
      "execution_count": 4,
      "outputs": []
    },
    {
      "cell_type": "code",
      "metadata": {
        "colab": {
          "base_uri": "https://localhost:8080/"
        },
        "id": "4l9V8M6Us-MZ",
        "outputId": "57833e9d-d7fd-43e3-a8f6-2413f707c77e"
      },
      "source": [
        "random.seed()\t\t# random 함수 초기화\n",
        "# n 입력받음\n",
        "#n = input()\n",
        "x = random.randint(-1000, 1000)\n",
        "# 리스트 A를 randint를 호출하여 n개의 랜덤한 숫자로 채움\n",
        "A = [random.randint(-1000, 1000) for i in range(0,int(n))]\n",
        "# print(A)\n",
        "# evaluate_n2 호출\n",
        "s1 = time.process_time()\n",
        "evaluate_n2(A, x)\n",
        "e1 = time.process_time()\n",
        "# # evaluate_n 호출\n",
        "s2 = time.process_time()\n",
        "evaluate_n(A, x)\n",
        "e2 = time.process_time()\n",
        "# # 두 함수의 수행시간 출력\n",
        "print(\"evaluate_n2() 수행시간: \", e1 - s1)\n",
        "print(\"evaluate_n() 수행시간: \", e2 - s2)"
      ],
      "execution_count": 5,
      "outputs": [
        {
          "output_type": "stream",
          "name": "stdout",
          "text": [
            "5000\n",
            "evaluate_n2() 수행시간:  7.765967680000001\n",
            "evaluate_n() 수행시간:  0.025845377000001335\n"
          ]
        }
      ]
    },
    {
      "cell_type": "markdown",
      "metadata": {
        "id": "YmtDQiLw5Bel"
      },
      "source": [
        "**evaluate_n2(A, x) 의 수행시간:**  \n",
        "2중 for문이 있으므로 O(n^2) 이고 나머지 연산들은 상수취급한다.\n",
        "<br/>  \n",
        "**evaluate_n(A, x) 의 수행시간:**  \n",
        "for문이 2개 있지만 나란히 있으므로 2n~으로 시작될 것이다.  \n",
        "따라서 O(n) 으로 볼 수 있고 나머지 연산들은 상수취급한다."
      ]
    },
    {
      "cell_type": "markdown",
      "metadata": {
        "id": "DQ8uKBU64nOu"
      },
      "source": [
        "# 그래프 비교"
      ]
    },
    {
      "cell_type": "code",
      "metadata": {
        "colab": {
          "base_uri": "https://localhost:8080/",
          "height": 265
        },
        "id": "e11l2ACjvPmf",
        "outputId": "999c6324-86c4-483b-8826-f7014de9a622"
      },
      "source": [
        "x_plot = [1000, 2000, 3000, 4000, 5000]\n",
        "x1_plot = [1, 2, 3, 4, 5]\n",
        "y1_plot = []\n",
        "y2_plot = []\n",
        "for i in x_plot:\n",
        "  A = [random.randint(-1000, 1000) for j in range(i)]\n",
        "  s1 = time.process_time()\n",
        "  evaluate_n(A, x)\n",
        "  e1 = time.process_time()\n",
        "  y1_plot.append(e1 - s1)\n",
        "  s2 = time.process_time()\n",
        "  evaluate_n2(A, x)\n",
        "  e2 = time.process_time()\n",
        "  y2_plot.append(e2 - s2)\n",
        "plt.plot(x_plot, y1_plot, 'ro', label = 'O(n)')\n",
        "plt.plot(x_plot, y2_plot, 'bo', label = 'O(n^2)')\n",
        "plt.legend(loc = 'best')\n",
        "plt.show()\n"
      ],
      "execution_count": 50,
      "outputs": [
        {
          "output_type": "display_data",
          "data": {
            "image/png": "[encoded data removed]",
            "text/plain": [
              "<Figure size 432x288 with 1 Axes>"
            ]
          },
          "metadata": {
            "needs_background": "light"
          }
        }
      ]
    },
    {
      "cell_type": "markdown",
      "metadata": {
        "id": "Fi9MTSvS80XC"
      },
      "source": [
        "n = [1000, 2000, 3000, 4000, 5000] 으로 하였다.  \n",
        "O(n^2)은 이차함수 그래프를 따르고\n",
        "O(n)은 일차함수 그래프를 따를 것이고 그래프 초반에는 O(n)이 O(n^2) 보다  \n",
        "값이 클 것이라 예측하였지만 값이 너무 큰지 잘 확인이 되지 않았다.    \n",
        "이를 확인하기 위해 n = [1, 2, 3, 4, 5] 로 하여 그래프를 그려보았다."
      ]
    },
    {
      "cell_type": "code",
      "metadata": {
        "colab": {
          "base_uri": "https://localhost:8080/",
          "height": 276
        },
        "id": "0b4fa77Q8pLX",
        "outputId": "78a81af2-cd80-4d0a-857e-c316b17f4886"
      },
      "source": [
        "x1_plot = [1, 2, 3, 4, 5]\n",
        "y1_plot = []\n",
        "y2_plot = []\n",
        "for i in x1_plot:\n",
        "  A = [random.randint(-1000, 1000) for j in range(i)]\n",
        "  s1 = time.process_time()\n",
        "  evaluate_n(A, x)\n",
        "  e1 = time.process_time()\n",
        "  y1_plot.append(e1 - s1)\n",
        "  s2 = time.process_time()\n",
        "  evaluate_n2(A, x)\n",
        "  e2 = time.process_time()\n",
        "  y2_plot.append(e2 - s2)\n",
        "plt.plot(x1_plot, y1_plot, 'ro', label = 'O(n)')\n",
        "plt.plot(x1_plot, y2_plot, 'bo', label = 'O(n^2)')\n",
        "plt.legend(loc = 'best')\n",
        "plt.show()"
      ],
      "execution_count": 52,
      "outputs": [
        {
          "output_type": "display_data",
          "data": {
            "image/png": "[encoded data removed]",
            "text/plain": [
              "<Figure size 432x288 with 1 Axes>"
            ]
          },
          "metadata": {
            "needs_background": "light"
          }
        }
      ]
    },
    {
      "cell_type": "markdown",
      "metadata": {
        "id": "EtmIuvlm-E24"
      },
      "source": [
        "확인해본 결과 n = 3일 때 까지는 O(n) > O(n^2) 인 것이 잘 확인되었다.  \n",
        "<br/>  \n",
        "<br/>  \n",
        "# 느낀점  \n",
        "생각보다 O(n^2)의 수행시간이 길어서 깜짝 놀랐다. \n",
        "그래프의 모양이 별로 예쁘지 않았다. 예상했던 모양이 아니었다.\n",
        "아마 랜덤함수에 따라 나오는 값에 따라 연산량이 많이 달라지는 것 같다.  \n",
        "또한 메모리에서 읽고 쓰는 시간도 있으므로 수행시간을 예측 할 때 변수   (상수취급되는 시간들)가 많아 그래프 모양이 조금씩 변형되는 것 같다."
      ]
    }
  ]
}