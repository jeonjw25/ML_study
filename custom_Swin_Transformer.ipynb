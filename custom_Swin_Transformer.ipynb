{
  "nbformat": 4,
  "nbformat_minor": 0,
  "metadata": {
    "colab": {
      "name": "Swin-Transformer.ipynb",
      "provenance": [],
      "collapsed_sections": [],
      "authorship_tag": "ABX9TyOzzDYHdcQUpOrtWbSVKG9Y",
      "include_colab_link": true
    },
    "kernelspec": {
      "name": "python3",
      "display_name": "Python 3"
    },
    "language_info": {
      "name": "python"
    },
    "accelerator": "GPU"
  },
  "cells": [
    {
      "cell_type": "markdown",
      "metadata": {
        "id": "view-in-github",
        "colab_type": "text"
      },
      "source": [
        "<a href=\"https://colab.research.google.com/github/jeonjw25/ML_study/blob/main/custom_Swin_Transformer.ipynb\" target=\"_parent\"><img src=\"https://colab.research.google.com/assets/colab-badge.svg\" alt=\"Open In Colab\"/></a>"
      ]
    },
    {
      "cell_type": "markdown",
      "metadata": {
        "id": "4Nvhz3kssGTr"
      },
      "source": [
        "# Step 1: Swin-Transformer git clone\n",
        "[Microsoft/Swin-Transformer](https://)"
      ]
    },
    {
      "cell_type": "code",
      "metadata": {
        "id": "wwO4mmboDELD",
        "colab": {
          "base_uri": "https://localhost:8080/"
        },
        "outputId": "2a616bc4-3260-4035-cce1-368eaf2aa25a"
      },
      "source": [
        "!git clone https://github.com/microsoft/Swin-Transformer.git"
      ],
      "execution_count": 1,
      "outputs": [
        {
          "output_type": "stream",
          "name": "stdout",
          "text": [
            "Cloning into 'Swin-Transformer'...\n",
            "remote: Enumerating objects: 141, done.\u001b[K\n",
            "remote: Counting objects: 100% (141/141), done.\u001b[K\n",
            "remote: Compressing objects: 100% (82/82), done.\u001b[K\n",
            "remote: Total 141 (delta 64), reused 105 (delta 53), pack-reused 0\u001b[K\n",
            "Receiving objects: 100% (141/141), 953.61 KiB | 4.89 MiB/s, done.\n",
            "Resolving deltas: 100% (64/64), done.\n"
          ]
        }
      ]
    },
    {
      "cell_type": "code",
      "metadata": {
        "colab": {
          "base_uri": "https://localhost:8080/"
        },
        "id": "74bMt3stDEt3",
        "outputId": "cca0c88f-8766-45ae-d190-db18b7b25832"
      },
      "source": [
        "%cd Swin-Transformer"
      ],
      "execution_count": 2,
      "outputs": [
        {
          "output_type": "stream",
          "name": "stdout",
          "text": [
            "/content/Swin-Transformer\n"
          ]
        }
      ]
    },
    {
      "cell_type": "markdown",
      "metadata": {
        "id": "Rs_jakASsa2z"
      },
      "source": [
        "# Step 2: 요구하는 버전의 torch, cuda 다운"
      ]
    },
    {
      "cell_type": "code",
      "metadata": {
        "id": "DZ-noK9AFLN0",
        "colab": {
          "base_uri": "https://localhost:8080/"
        },
        "outputId": "d5410a6e-171f-4771-95ea-f3cb71604d54"
      },
      "source": [
        "!python -m pip install torch==1.7.1 torchvision==0.8.2 cudatoolkit==10.1 -f https://download.pytorch.org/whl/torch_stable.html "
      ],
      "execution_count": 3,
      "outputs": [
        {
          "output_type": "stream",
          "name": "stdout",
          "text": [
            "Looking in links: https://download.pytorch.org/whl/torch_stable.html\n",
            "Collecting torch==1.7.1\n",
            "  Downloading https://download.pytorch.org/whl/rocm3.8/torch-1.7.1%2Brocm3.8-cp37-cp37m-linux_x86_64.whl (588.0 MB)\n",
            "\u001b[K     |████████████████████████████████| 588.0 MB 24 kB/s \n",
            "\u001b[?25hCollecting torchvision==0.8.2\n",
            "  Downloading https://download.pytorch.org/whl/cu92/torchvision-0.8.2%2Bcu92-cp37-cp37m-linux_x86_64.whl (12.5 MB)\n",
            "\u001b[K     |████████████████████████████████| 12.5 MB 226 kB/s \n",
            "\u001b[31mERROR: Could not find a version that satisfies the requirement cudatoolkit==10.1 (from versions: none)\u001b[0m\n",
            "\u001b[31mERROR: No matching distribution found for cudatoolkit==10.1\u001b[0m\n",
            "\u001b[?25h"
          ]
        }
      ]
    },
    {
      "cell_type": "code",
      "metadata": {
        "colab": {
          "base_uri": "https://localhost:8080/"
        },
        "id": "PX4RFcxCs4rE",
        "outputId": "247a96bb-b39a-47a3-9e5c-689ba0e435a0"
      },
      "source": [
        "import torch\n",
        "\n",
        "print(\"Torch version:{}\".format(torch.__version__))\n",
        "print(\"cuda version: {}\".format(torch.version.cuda))\n",
        "torch.cuda.is_available()"
      ],
      "execution_count": 5,
      "outputs": [
        {
          "output_type": "stream",
          "name": "stdout",
          "text": [
            "Torch version:1.9.0+cu102\n",
            "cuda version: 10.2\n"
          ]
        },
        {
          "output_type": "execute_result",
          "data": {
            "text/plain": [
              "True"
            ]
          },
          "metadata": {},
          "execution_count": 5
        }
      ]
    },
    {
      "cell_type": "code",
      "metadata": {
        "id": "5vyyR3kGWPn8"
      },
      "source": [
        "\"\"\"\n",
        "!wget https://developer.download.nvidia.com/compute/cuda/repos/ubuntu1810/x86_64/cuda-repo-ubuntu1810_10.1.105-1_amd64.deb\n",
        "!sudo dpkg -i cuda-repo-ubuntu1810_10.1.105-1_amd64.deb\n",
        "!sudo apt-key adv --fetch-keys https://developer.download.nvidia.com/compute/cuda/repos/ubuntu1810/x86_64/7fa2af80.pub\n",
        "!sudo apt-get update\n",
        "!sudo apt-get install cuda\n",
        "\"\"\""
      ],
      "execution_count": null,
      "outputs": []
    },
    {
      "cell_type": "markdown",
      "metadata": {
        "id": "g_tFwZucs7Yt"
      },
      "source": [
        "# Step 3: 필요 library 다운\n",
        "\n"
      ]
    },
    {
      "cell_type": "code",
      "metadata": {
        "colab": {
          "base_uri": "https://localhost:8080/"
        },
        "id": "8CQii_-DIjc7",
        "outputId": "9d69ae9f-ae90-4716-f764-165375500402"
      },
      "source": [
        "!pip install timm"
      ],
      "execution_count": 6,
      "outputs": [
        {
          "output_type": "stream",
          "name": "stdout",
          "text": [
            "Collecting timm\n",
            "  Downloading timm-0.4.12-py3-none-any.whl (376 kB)\n",
            "\u001b[?25l\r\u001b[K     |▉                               | 10 kB 23.2 MB/s eta 0:00:01\r\u001b[K     |█▊                              | 20 kB 9.7 MB/s eta 0:00:01\r\u001b[K     |██▋                             | 30 kB 8.2 MB/s eta 0:00:01\r\u001b[K     |███▌                            | 40 kB 7.5 MB/s eta 0:00:01\r\u001b[K     |████▍                           | 51 kB 4.1 MB/s eta 0:00:01\r\u001b[K     |█████▏                          | 61 kB 4.2 MB/s eta 0:00:01\r\u001b[K     |██████                          | 71 kB 4.4 MB/s eta 0:00:01\r\u001b[K     |███████                         | 81 kB 5.0 MB/s eta 0:00:01\r\u001b[K     |███████▉                        | 92 kB 3.8 MB/s eta 0:00:01\r\u001b[K     |████████▊                       | 102 kB 4.1 MB/s eta 0:00:01\r\u001b[K     |█████████▋                      | 112 kB 4.1 MB/s eta 0:00:01\r\u001b[K     |██████████▍                     | 122 kB 4.1 MB/s eta 0:00:01\r\u001b[K     |███████████▎                    | 133 kB 4.1 MB/s eta 0:00:01\r\u001b[K     |████████████▏                   | 143 kB 4.1 MB/s eta 0:00:01\r\u001b[K     |█████████████                   | 153 kB 4.1 MB/s eta 0:00:01\r\u001b[K     |██████████████                  | 163 kB 4.1 MB/s eta 0:00:01\r\u001b[K     |██████████████▊                 | 174 kB 4.1 MB/s eta 0:00:01\r\u001b[K     |███████████████▋                | 184 kB 4.1 MB/s eta 0:00:01\r\u001b[K     |████████████████▌               | 194 kB 4.1 MB/s eta 0:00:01\r\u001b[K     |█████████████████▍              | 204 kB 4.1 MB/s eta 0:00:01\r\u001b[K     |██████████████████▎             | 215 kB 4.1 MB/s eta 0:00:01\r\u001b[K     |███████████████████▏            | 225 kB 4.1 MB/s eta 0:00:01\r\u001b[K     |████████████████████            | 235 kB 4.1 MB/s eta 0:00:01\r\u001b[K     |████████████████████▉           | 245 kB 4.1 MB/s eta 0:00:01\r\u001b[K     |█████████████████████▊          | 256 kB 4.1 MB/s eta 0:00:01\r\u001b[K     |██████████████████████▋         | 266 kB 4.1 MB/s eta 0:00:01\r\u001b[K     |███████████████████████▌        | 276 kB 4.1 MB/s eta 0:00:01\r\u001b[K     |████████████████████████▍       | 286 kB 4.1 MB/s eta 0:00:01\r\u001b[K     |█████████████████████████▏      | 296 kB 4.1 MB/s eta 0:00:01\r\u001b[K     |██████████████████████████      | 307 kB 4.1 MB/s eta 0:00:01\r\u001b[K     |███████████████████████████     | 317 kB 4.1 MB/s eta 0:00:01\r\u001b[K     |███████████████████████████▉    | 327 kB 4.1 MB/s eta 0:00:01\r\u001b[K     |████████████████████████████▊   | 337 kB 4.1 MB/s eta 0:00:01\r\u001b[K     |█████████████████████████████▌  | 348 kB 4.1 MB/s eta 0:00:01\r\u001b[K     |██████████████████████████████▍ | 358 kB 4.1 MB/s eta 0:00:01\r\u001b[K     |███████████████████████████████▎| 368 kB 4.1 MB/s eta 0:00:01\r\u001b[K     |████████████████████████████████| 376 kB 4.1 MB/s \n",
            "\u001b[?25hRequirement already satisfied: torchvision in /usr/local/lib/python3.7/dist-packages (from timm) (0.10.0+cu102)\n",
            "Requirement already satisfied: torch>=1.4 in /usr/local/lib/python3.7/dist-packages (from timm) (1.9.0+cu102)\n",
            "Requirement already satisfied: typing-extensions in /usr/local/lib/python3.7/dist-packages (from torch>=1.4->timm) (3.7.4.3)\n",
            "Requirement already satisfied: numpy in /usr/local/lib/python3.7/dist-packages (from torchvision->timm) (1.19.5)\n",
            "Requirement already satisfied: pillow>=5.3.0 in /usr/local/lib/python3.7/dist-packages (from torchvision->timm) (7.1.2)\n",
            "Installing collected packages: timm\n",
            "Successfully installed timm-0.4.12\n"
          ]
        }
      ]
    },
    {
      "cell_type": "code",
      "metadata": {
        "id": "okCVC0HxNI9V",
        "colab": {
          "base_uri": "https://localhost:8080/"
        },
        "outputId": "569e2eb5-a49e-4c59-a535-7bbbd4f12655"
      },
      "source": [
        "!git clone https://github.com/NVIDIA/apex\n",
        "%cd apex\n",
        "!pip install -v --disable-pip-version-check --no-cache-dir --global-option=\"--cpp_ext\" --global-option=\"--cuda_ext\" ./\n",
        "%cd .."
      ],
      "execution_count": 7,
      "outputs": [
        {
          "output_type": "stream",
          "name": "stdout",
          "text": [
            "Cloning into 'apex'...\n",
            "remote: Enumerating objects: 8256, done.\u001b[K\n",
            "remote: Counting objects: 100% (343/343), done.\u001b[K\n",
            "remote: Compressing objects: 100% (192/192), done.\u001b[K\n",
            "remote: Total 8256 (delta 204), reused 240 (delta 139), pack-reused 7913\u001b[K\n",
            "Receiving objects: 100% (8256/8256), 14.20 MiB | 8.97 MiB/s, done.\n",
            "Resolving deltas: 100% (5603/5603), done.\n",
            "/content/Swin-Transformer/apex\n",
            "/usr/local/lib/python3.7/dist-packages/pip/_internal/commands/install.py:232: UserWarning: Disabling all use of wheels due to the use of --build-option / --global-option / --install-option.\n",
            "  cmdoptions.check_install_build_global(options)\n",
            "Using pip 21.1.3 from /usr/local/lib/python3.7/dist-packages/pip (python 3.7)\n",
            "Value for scheme.platlib does not match. Please report this to <https://github.com/pypa/pip/issues/9617>\n",
            "distutils: /usr/local/lib/python3.7/dist-packages\n",
            "sysconfig: /usr/lib/python3.7/site-packages\n",
            "Value for scheme.purelib does not match. Please report this to <https://github.com/pypa/pip/issues/9617>\n",
            "distutils: /usr/local/lib/python3.7/dist-packages\n",
            "sysconfig: /usr/lib/python3.7/site-packages\n",
            "Value for scheme.headers does not match. Please report this to <https://github.com/pypa/pip/issues/9617>\n",
            "distutils: /usr/local/include/python3.7/UNKNOWN\n",
            "sysconfig: /usr/include/python3.7m/UNKNOWN\n",
            "Value for scheme.scripts does not match. Please report this to <https://github.com/pypa/pip/issues/9617>\n",
            "distutils: /usr/local/bin\n",
            "sysconfig: /usr/bin\n",
            "Value for scheme.data does not match. Please report this to <https://github.com/pypa/pip/issues/9617>\n",
            "distutils: /usr/local\n",
            "sysconfig: /usr\n",
            "Additional context:\n",
            "user = False\n",
            "home = None\n",
            "root = None\n",
            "prefix = None\n",
            "Non-user install because site-packages writeable\n",
            "Created temporary directory: /tmp/pip-ephem-wheel-cache-94b4cna4\n",
            "Created temporary directory: /tmp/pip-req-tracker-xs1x2bqf\n",
            "Initialized build tracking at /tmp/pip-req-tracker-xs1x2bqf\n",
            "Created build tracker: /tmp/pip-req-tracker-xs1x2bqf\n",
            "Entered build tracker: /tmp/pip-req-tracker-xs1x2bqf\n",
            "Created temporary directory: /tmp/pip-install-jw292827\n",
            "Processing /content/Swin-Transformer/apex\n",
            "  Created temporary directory: /tmp/pip-req-build-_btmu15t\n",
            "\u001b[33m  DEPRECATION: A future pip version will change local packages to be built in-place without first copying to a temporary directory. We recommend you use --use-feature=in-tree-build to test your packages with this new behavior before it becomes the default.\n",
            "   pip 21.3 will remove support for this functionality. You can find discussion regarding this at https://github.com/pypa/pip/issues/7555.\u001b[0m\n",
            "  Added file:///content/Swin-Transformer/apex to build tracker '/tmp/pip-req-tracker-xs1x2bqf'\n",
            "    Running setup.py (path:/tmp/pip-req-build-_btmu15t/setup.py) egg_info for package from file:///content/Swin-Transformer/apex\n",
            "    Created temporary directory: /tmp/pip-pip-egg-info-nf94njd7\n",
            "    Running command python setup.py egg_info\n",
            "\n",
            "\n",
            "    torch.__version__  = 1.9.0+cu102\n",
            "\n",
            "\n",
            "    running egg_info\n",
            "    creating /tmp/pip-pip-egg-info-nf94njd7/apex.egg-info\n",
            "    writing /tmp/pip-pip-egg-info-nf94njd7/apex.egg-info/PKG-INFO\n",
            "    writing dependency_links to /tmp/pip-pip-egg-info-nf94njd7/apex.egg-info/dependency_links.txt\n",
            "    writing top-level names to /tmp/pip-pip-egg-info-nf94njd7/apex.egg-info/top_level.txt\n",
            "    writing manifest file '/tmp/pip-pip-egg-info-nf94njd7/apex.egg-info/SOURCES.txt'\n",
            "    adding license file 'LICENSE'\n",
            "    writing manifest file '/tmp/pip-pip-egg-info-nf94njd7/apex.egg-info/SOURCES.txt'\n",
            "    /tmp/pip-req-build-_btmu15t/setup.py:67: UserWarning: Option --pyprof not specified. Not installing PyProf dependencies!\n",
            "      warnings.warn(\"Option --pyprof not specified. Not installing PyProf dependencies!\")\n",
            "  Source in /tmp/pip-req-build-_btmu15t has version 0.1, which satisfies requirement apex==0.1 from file:///content/Swin-Transformer/apex\n",
            "  Removed apex==0.1 from file:///content/Swin-Transformer/apex from build tracker '/tmp/pip-req-tracker-xs1x2bqf'\n",
            "Created temporary directory: /tmp/pip-unpack-l2sqku67\n",
            "Skipping wheel build for apex, due to binaries being disabled for it.\n",
            "Installing collected packages: apex\n",
            "  Value for scheme.platlib does not match. Please report this to <https://github.com/pypa/pip/issues/9617>\n",
            "  distutils: /usr/local/lib/python3.7/dist-packages\n",
            "  sysconfig: /usr/lib/python3.7/site-packages\n",
            "  Value for scheme.purelib does not match. Please report this to <https://github.com/pypa/pip/issues/9617>\n",
            "  distutils: /usr/local/lib/python3.7/dist-packages\n",
            "  sysconfig: /usr/lib/python3.7/site-packages\n",
            "  Value for scheme.headers does not match. Please report this to <https://github.com/pypa/pip/issues/9617>\n",
            "  distutils: /usr/local/include/python3.7/apex\n",
            "  sysconfig: /usr/include/python3.7m/apex\n",
            "  Value for scheme.scripts does not match. Please report this to <https://github.com/pypa/pip/issues/9617>\n",
            "  distutils: /usr/local/bin\n",
            "  sysconfig: /usr/bin\n",
            "  Value for scheme.data does not match. Please report this to <https://github.com/pypa/pip/issues/9617>\n",
            "  distutils: /usr/local\n",
            "  sysconfig: /usr\n",
            "  Additional context:\n",
            "  user = False\n",
            "  home = None\n",
            "  root = None\n",
            "  prefix = None\n",
            "  Created temporary directory: /tmp/pip-record-jpyoxfuh\n",
            "    Running command /usr/bin/python3 -u -c 'import io, os, sys, setuptools, tokenize; sys.argv[0] = '\"'\"'/tmp/pip-req-build-_btmu15t/setup.py'\"'\"'; __file__='\"'\"'/tmp/pip-req-build-_btmu15t/setup.py'\"'\"';f = getattr(tokenize, '\"'\"'open'\"'\"', open)(__file__) if os.path.exists(__file__) else io.StringIO('\"'\"'from setuptools import setup; setup()'\"'\"');code = f.read().replace('\"'\"'\\r\\n'\"'\"', '\"'\"'\\n'\"'\"');f.close();exec(compile(code, __file__, '\"'\"'exec'\"'\"'))' --cpp_ext --cuda_ext install --record /tmp/pip-record-jpyoxfuh/install-record.txt --single-version-externally-managed --compile --install-headers /usr/local/include/python3.7/apex\n",
            "\n",
            "\n",
            "    torch.__version__  = 1.9.0+cu102\n",
            "\n",
            "\n",
            "    /tmp/pip-req-build-_btmu15t/setup.py:67: UserWarning: Option --pyprof not specified. Not installing PyProf dependencies!\n",
            "      warnings.warn(\"Option --pyprof not specified. Not installing PyProf dependencies!\")\n",
            "\n",
            "    Compiling cuda extensions with\n",
            "    nvcc: NVIDIA (R) Cuda compiler driver\n",
            "    Copyright (c) 2005-2020 NVIDIA Corporation\n",
            "    Built on Wed_Jul_22_19:09:09_PDT_2020\n",
            "    Cuda compilation tools, release 11.0, V11.0.221\n",
            "    Build cuda_11.0_bu.TC445_37.28845127_0\n",
            "    from /usr/local/cuda/bin\n",
            "\n",
            "    Traceback (most recent call last):\n",
            "      File \"<string>\", line 1, in <module>\n",
            "      File \"/tmp/pip-req-build-_btmu15t/setup.py\", line 159, in <module>\n",
            "        check_cuda_torch_binary_vs_bare_metal(CUDA_HOME)\n",
            "      File \"/tmp/pip-req-build-_btmu15t/setup.py\", line 103, in check_cuda_torch_binary_vs_bare_metal\n",
            "        \"https://github.com/NVIDIA/apex/pull/323#discussion_r287021798.  \"\n",
            "    RuntimeError: Cuda extensions are being compiled with a version of Cuda that does not match the version used to compile Pytorch binaries.  Pytorch binaries were compiled with Cuda 10.2.\n",
            "    In some cases, a minor-version mismatch will not cause later errors:  https://github.com/NVIDIA/apex/pull/323#discussion_r287021798.  You can try commenting out this check (at your own risk).\n",
            "    Running setup.py install for apex ... \u001b[?25l\u001b[?25herror\n",
            "\u001b[31mERROR: Command errored out with exit status 1: /usr/bin/python3 -u -c 'import io, os, sys, setuptools, tokenize; sys.argv[0] = '\"'\"'/tmp/pip-req-build-_btmu15t/setup.py'\"'\"'; __file__='\"'\"'/tmp/pip-req-build-_btmu15t/setup.py'\"'\"';f = getattr(tokenize, '\"'\"'open'\"'\"', open)(__file__) if os.path.exists(__file__) else io.StringIO('\"'\"'from setuptools import setup; setup()'\"'\"');code = f.read().replace('\"'\"'\\r\\n'\"'\"', '\"'\"'\\n'\"'\"');f.close();exec(compile(code, __file__, '\"'\"'exec'\"'\"'))' --cpp_ext --cuda_ext install --record /tmp/pip-record-jpyoxfuh/install-record.txt --single-version-externally-managed --compile --install-headers /usr/local/include/python3.7/apex Check the logs for full command output.\u001b[0m\n",
            "Exception information:\n",
            "Traceback (most recent call last):\n",
            "  File \"/usr/local/lib/python3.7/dist-packages/pip/_internal/req/req_install.py\", line 825, in install\n",
            "    req_description=str(self.req),\n",
            "  File \"/usr/local/lib/python3.7/dist-packages/pip/_internal/operations/install/legacy.py\", line 81, in install\n",
            "    raise LegacyInstallFailure\n",
            "pip._internal.operations.install.legacy.LegacyInstallFailure\n",
            "\n",
            "During handling of the above exception, another exception occurred:\n",
            "\n",
            "Traceback (most recent call last):\n",
            "  File \"/usr/local/lib/python3.7/dist-packages/pip/_internal/cli/base_command.py\", line 180, in _main\n",
            "    status = self.run(options, args)\n",
            "  File \"/usr/local/lib/python3.7/dist-packages/pip/_internal/cli/req_command.py\", line 199, in wrapper\n",
            "    return func(self, options, args)\n",
            "  File \"/usr/local/lib/python3.7/dist-packages/pip/_internal/commands/install.py\", line 402, in run\n",
            "    pycompile=options.compile,\n",
            "  File \"/usr/local/lib/python3.7/dist-packages/pip/_internal/req/__init__.py\", line 85, in install_given_reqs\n",
            "    pycompile=pycompile,\n",
            "  File \"/usr/local/lib/python3.7/dist-packages/pip/_internal/req/req_install.py\", line 829, in install\n",
            "    six.reraise(*exc.parent)\n",
            "  File \"/usr/local/lib/python3.7/dist-packages/pip/_vendor/six.py\", line 703, in reraise\n",
            "    raise value\n",
            "  File \"/usr/local/lib/python3.7/dist-packages/pip/_internal/operations/install/legacy.py\", line 71, in install\n",
            "    cwd=unpacked_source_directory,\n",
            "  File \"/usr/local/lib/python3.7/dist-packages/pip/_internal/utils/subprocess.py\", line 278, in runner\n",
            "    spinner=spinner,\n",
            "  File \"/usr/local/lib/python3.7/dist-packages/pip/_internal/utils/subprocess.py\", line 244, in call_subprocess\n",
            "    raise InstallationSubprocessError(proc.returncode, command_desc)\n",
            "pip._internal.exceptions.InstallationSubprocessError: Command errored out with exit status 1: /usr/bin/python3 -u -c 'import io, os, sys, setuptools, tokenize; sys.argv[0] = '\"'\"'/tmp/pip-req-build-_btmu15t/setup.py'\"'\"'; __file__='\"'\"'/tmp/pip-req-build-_btmu15t/setup.py'\"'\"';f = getattr(tokenize, '\"'\"'open'\"'\"', open)(__file__) if os.path.exists(__file__) else io.StringIO('\"'\"'from setuptools import setup; setup()'\"'\"');code = f.read().replace('\"'\"'\\r\\n'\"'\"', '\"'\"'\\n'\"'\"');f.close();exec(compile(code, __file__, '\"'\"'exec'\"'\"'))' --cpp_ext --cuda_ext install --record /tmp/pip-record-jpyoxfuh/install-record.txt --single-version-externally-managed --compile --install-headers /usr/local/include/python3.7/apex Check the logs for full command output.\n",
            "Removed build tracker: '/tmp/pip-req-tracker-xs1x2bqf'\n"
          ]
        }
      ]
    },
    {
      "cell_type": "code",
      "metadata": {
        "id": "xvUqoFUrNJT2",
        "colab": {
          "base_uri": "https://localhost:8080/"
        },
        "outputId": "3d518787-da95-4907-9c3a-298f9a72fed7"
      },
      "source": [
        "!pip install opencv-python==4.4.0.46 termcolor==1.1.0 yacs==0.1.8"
      ],
      "execution_count": 8,
      "outputs": [
        {
          "output_type": "stream",
          "name": "stdout",
          "text": [
            "Collecting opencv-python==4.4.0.46\n",
            "  Downloading opencv_python-4.4.0.46-cp37-cp37m-manylinux2014_x86_64.whl (49.5 MB)\n",
            "\u001b[K     |████████████████████████████████| 49.5 MB 40 kB/s \n",
            "\u001b[?25hRequirement already satisfied: termcolor==1.1.0 in /usr/local/lib/python3.7/dist-packages (1.1.0)\n",
            "Collecting yacs==0.1.8\n",
            "  Downloading yacs-0.1.8-py3-none-any.whl (14 kB)\n",
            "Requirement already satisfied: numpy>=1.14.5 in /usr/local/lib/python3.7/dist-packages (from opencv-python==4.4.0.46) (1.19.5)\n",
            "Requirement already satisfied: PyYAML in /usr/local/lib/python3.7/dist-packages (from yacs==0.1.8) (3.13)\n",
            "Installing collected packages: yacs, opencv-python\n",
            "  Attempting uninstall: opencv-python\n",
            "    Found existing installation: opencv-python 4.1.2.30\n",
            "    Uninstalling opencv-python-4.1.2.30:\n",
            "      Successfully uninstalled opencv-python-4.1.2.30\n",
            "\u001b[31mERROR: pip's dependency resolver does not currently take into account all the packages that are installed. This behaviour is the source of the following dependency conflicts.\n",
            "albumentations 0.1.12 requires imgaug<0.2.7,>=0.2.5, but you have imgaug 0.2.9 which is incompatible.\u001b[0m\n",
            "Successfully installed opencv-python-4.4.0.46 yacs-0.1.8\n"
          ]
        }
      ]
    },
    {
      "cell_type": "code",
      "metadata": {
        "colab": {
          "base_uri": "https://localhost:8080/"
        },
        "id": "5d64XD32toB4",
        "outputId": "60060a42-f7c1-41a9-d8c9-1eba904bf62f"
      },
      "source": [
        "!pip install -U PyYAML"
      ],
      "execution_count": 9,
      "outputs": [
        {
          "output_type": "stream",
          "name": "stdout",
          "text": [
            "Requirement already satisfied: PyYAML in /usr/local/lib/python3.7/dist-packages (3.13)\n",
            "Collecting PyYAML\n",
            "  Downloading PyYAML-5.4.1-cp37-cp37m-manylinux1_x86_64.whl (636 kB)\n",
            "\u001b[K     |████████████████████████████████| 636 kB 4.0 MB/s \n",
            "\u001b[?25hInstalling collected packages: PyYAML\n",
            "  Attempting uninstall: PyYAML\n",
            "    Found existing installation: PyYAML 3.13\n",
            "    Uninstalling PyYAML-3.13:\n",
            "      Successfully uninstalled PyYAML-3.13\n",
            "Successfully installed PyYAML-5.4.1\n"
          ]
        }
      ]
    },
    {
      "cell_type": "code",
      "metadata": {
        "colab": {
          "base_uri": "https://localhost:8080/"
        },
        "id": "nz7wAUZxtuZo",
        "outputId": "704a4e76-5b6a-4c34-e6a9-e69ca023b73c"
      },
      "source": [
        "import torch\n",
        "import timm\n",
        "print(torch.__version__)\n",
        "print(timm.__version__)"
      ],
      "execution_count": 10,
      "outputs": [
        {
          "output_type": "stream",
          "name": "stdout",
          "text": [
            "1.9.0+cu102\n",
            "0.4.12\n"
          ]
        }
      ]
    },
    {
      "cell_type": "markdown",
      "metadata": {
        "id": "cHoZ4LqruMXK"
      },
      "source": [
        "# Step 4: Google Mount\n",
        "(생략가능)"
      ]
    },
    {
      "cell_type": "code",
      "metadata": {
        "colab": {
          "base_uri": "https://localhost:8080/"
        },
        "id": "pniCHw-lZ5QR",
        "outputId": "088d8406-e752-4bab-9941-3e648600c643"
      },
      "source": [
        "from google.colab import drive\n",
        "drive.mount('/content/drive')"
      ],
      "execution_count": null,
      "outputs": [
        {
          "output_type": "stream",
          "name": "stdout",
          "text": [
            "Mounted at /content/drive\n"
          ]
        }
      ]
    },
    {
      "cell_type": "markdown",
      "metadata": {
        "id": "p65d8i3fuRlD"
      },
      "source": [
        "# Step 5: Training\n"
      ]
    },
    {
      "cell_type": "markdown",
      "metadata": {
        "id": "ZDcfAWtBuXKL"
      },
      "source": [
        "## Step 5-1: config file 확인\n"
      ]
    },
    {
      "cell_type": "code",
      "metadata": {
        "colab": {
          "base_uri": "https://localhost:8080/"
        },
        "id": "TvjQboLcsfYh",
        "outputId": "f5e4124c-129c-4ef2-b600-287318eb40b7"
      },
      "source": [
        "!ls configs"
      ],
      "execution_count": null,
      "outputs": [
        {
          "output_type": "stream",
          "name": "stdout",
          "text": [
            "/content/Swin-Transformer\n",
            "swin_base_patch4_window12_384.yaml\n",
            "swin_base_patch4_window7_224.yaml\n",
            "swin_large_patch4_window12_384.yaml\n",
            "swin_large_patch4_window7_224.yaml\n",
            "swin_mlp_base_patch4_window7_224.yaml\n",
            "swin_mlp_tiny_c12_patch4_window8_256.yaml\n",
            "swin_mlp_tiny_c24_patch4_window8_256.yaml\n",
            "swin_mlp_tiny_c6_patch4_window8_256.yaml\n",
            "swin_small_patch4_window7_224.yaml\n",
            "swin_tiny_c24_patch4_window8_256.yaml\n",
            "swin_tiny_patch4_window7_224.yaml\n"
          ]
        }
      ]
    },
    {
      "cell_type": "code",
      "metadata": {
        "id": "BlwMpNUdNJeN"
      },
      "source": [
        "#!python -m torch.distributed.launch --nproc_per_node 1 --master_port 12345 main.py --eval \\\n",
        "#--cfg configs/swin_base_patch4_window7_224.yaml --resume swin_base_patch4_window7_224.pth --data-path ../drive/MyDrive/images/dog.jpg"
      ],
      "execution_count": null,
      "outputs": []
    },
    {
      "cell_type": "code",
      "metadata": {
        "id": "AK2SNoRKNJli",
        "colab": {
          "base_uri": "https://localhost:8080/"
        },
        "outputId": "47e34f09-328c-4649-ca4d-a7a4b65b4a7f"
      },
      "source": [
        "import collections.abc as container_abcs\n",
        "!python -m torch.distributed.launch --nproc_per_node 1  --master_port 12345  main.py \\\n",
        "--cfg configs/swin_tiny_patch4_window7_224.yaml --data-path ../drive/MyDrive/love_data --batch-size 128 "
      ],
      "execution_count": null,
      "outputs": [
        {
          "output_type": "stream",
          "name": "stdout",
          "text": [
            "/usr/local/lib/python3.7/dist-packages/torch/distributed/launch.py:164: DeprecationWarning: The 'warn' method is deprecated, use 'warning' instead\n",
            "  \"The module torch.distributed.launch is deprecated \"\n",
            "The module torch.distributed.launch is deprecated and going to be removed in future.Migrate to torch.distributed.run\n",
            "WARNING:torch.distributed.run:--use_env is deprecated and will be removed in future releases.\n",
            " Please read local_rank from `os.environ('LOCAL_RANK')` instead.\n",
            "INFO:torch.distributed.launcher.api:Starting elastic_operator with launch configs:\n",
            "  entrypoint       : main.py\n",
            "  min_nodes        : 1\n",
            "  max_nodes        : 1\n",
            "  nproc_per_node   : 1\n",
            "  run_id           : none\n",
            "  rdzv_backend     : static\n",
            "  rdzv_endpoint    : 127.0.0.1:29500\n",
            "  rdzv_configs     : {'rank': 0, 'timeout': 900}\n",
            "  max_restarts     : 3\n",
            "  monitor_interval : 5\n",
            "  log_dir          : None\n",
            "  metrics_cfg      : {}\n",
            "\n",
            "INFO:torch.distributed.elastic.agent.server.local_elastic_agent:log directory set to: /tmp/torchelastic_uc1fczap/none_at68c7ke\n",
            "INFO:torch.distributed.elastic.agent.server.api:[default] starting workers for entrypoint: python3\n",
            "INFO:torch.distributed.elastic.agent.server.api:[default] Rendezvous'ing worker group\n",
            "/usr/local/lib/python3.7/dist-packages/torch/distributed/elastic/utils/store.py:53: FutureWarning: This is an experimental API and will be changed in future.\n",
            "  \"This is an experimental API and will be changed in future.\", FutureWarning\n",
            "INFO:torch.distributed.elastic.agent.server.api:[default] Rendezvous complete for workers. Result:\n",
            "  restart_count=0\n",
            "  master_addr=127.0.0.1\n",
            "  master_port=29500\n",
            "  group_rank=0\n",
            "  group_world_size=1\n",
            "  local_ranks=[0]\n",
            "  role_ranks=[0]\n",
            "  global_ranks=[0]\n",
            "  role_world_sizes=[1]\n",
            "  global_world_sizes=[1]\n",
            "\n",
            "INFO:torch.distributed.elastic.agent.server.api:[default] Starting worker group\n",
            "INFO:torch.distributed.elastic.multiprocessing:Setting worker0 reply file to: /tmp/torchelastic_uc1fczap/none_at68c7ke/attempt_0/0/error.json\n",
            "=> merge config from configs/swin_tiny_patch4_window7_224.yaml\n",
            "Traceback (most recent call last):\n",
            "  File \"main.py\", line 302, in <module>\n",
            "    assert amp is not None, \"amp not installed!\"\n",
            "AssertionError: amp not installed!\n",
            "ERROR:torch.distributed.elastic.multiprocessing.api:failed (exitcode: 1) local_rank: 0 (pid: 686) of binary: /usr/bin/python3\n",
            "ERROR:torch.distributed.elastic.agent.server.local_elastic_agent:[default] Worker group failed\n",
            "INFO:torch.distributed.elastic.agent.server.api:[default] Worker group FAILED. 3/3 attempts left; will restart worker group\n",
            "INFO:torch.distributed.elastic.agent.server.api:[default] Stopping worker group\n",
            "INFO:torch.distributed.elastic.agent.server.api:[default] Rendezvous'ing worker group\n",
            "INFO:torch.distributed.elastic.agent.server.api:[default] Rendezvous complete for workers. Result:\n",
            "  restart_count=1\n",
            "  master_addr=127.0.0.1\n",
            "  master_port=29500\n",
            "  group_rank=0\n",
            "  group_world_size=1\n",
            "  local_ranks=[0]\n",
            "  role_ranks=[0]\n",
            "  global_ranks=[0]\n",
            "  role_world_sizes=[1]\n",
            "  global_world_sizes=[1]\n",
            "\n",
            "INFO:torch.distributed.elastic.agent.server.api:[default] Starting worker group\n",
            "INFO:torch.distributed.elastic.multiprocessing:Setting worker0 reply file to: /tmp/torchelastic_uc1fczap/none_at68c7ke/attempt_1/0/error.json\n",
            "=> merge config from configs/swin_tiny_patch4_window7_224.yaml\n",
            "Traceback (most recent call last):\n",
            "  File \"main.py\", line 302, in <module>\n",
            "    assert amp is not None, \"amp not installed!\"\n",
            "AssertionError: amp not installed!\n",
            "ERROR:torch.distributed.elastic.multiprocessing.api:failed (exitcode: 1) local_rank: 0 (pid: 690) of binary: /usr/bin/python3\n",
            "ERROR:torch.distributed.elastic.agent.server.local_elastic_agent:[default] Worker group failed\n",
            "INFO:torch.distributed.elastic.agent.server.api:[default] Worker group FAILED. 2/3 attempts left; will restart worker group\n",
            "INFO:torch.distributed.elastic.agent.server.api:[default] Stopping worker group\n",
            "INFO:torch.distributed.elastic.agent.server.api:[default] Rendezvous'ing worker group\n",
            "INFO:torch.distributed.elastic.agent.server.api:[default] Rendezvous complete for workers. Result:\n",
            "  restart_count=2\n",
            "  master_addr=127.0.0.1\n",
            "  master_port=29500\n",
            "  group_rank=0\n",
            "  group_world_size=1\n",
            "  local_ranks=[0]\n",
            "  role_ranks=[0]\n",
            "  global_ranks=[0]\n",
            "  role_world_sizes=[1]\n",
            "  global_world_sizes=[1]\n",
            "\n",
            "INFO:torch.distributed.elastic.agent.server.api:[default] Starting worker group\n",
            "INFO:torch.distributed.elastic.multiprocessing:Setting worker0 reply file to: /tmp/torchelastic_uc1fczap/none_at68c7ke/attempt_2/0/error.json\n",
            "=> merge config from configs/swin_tiny_patch4_window7_224.yaml\n",
            "Traceback (most recent call last):\n",
            "  File \"main.py\", line 302, in <module>\n",
            "    assert amp is not None, \"amp not installed!\"\n",
            "AssertionError: amp not installed!\n",
            "ERROR:torch.distributed.elastic.multiprocessing.api:failed (exitcode: 1) local_rank: 0 (pid: 696) of binary: /usr/bin/python3\n",
            "ERROR:torch.distributed.elastic.agent.server.local_elastic_agent:[default] Worker group failed\n",
            "INFO:torch.distributed.elastic.agent.server.api:[default] Worker group FAILED. 1/3 attempts left; will restart worker group\n",
            "INFO:torch.distributed.elastic.agent.server.api:[default] Stopping worker group\n",
            "INFO:torch.distributed.elastic.agent.server.api:[default] Rendezvous'ing worker group\n",
            "INFO:torch.distributed.elastic.agent.server.api:[default] Rendezvous complete for workers. Result:\n",
            "  restart_count=3\n",
            "  master_addr=127.0.0.1\n",
            "  master_port=29500\n",
            "  group_rank=0\n",
            "  group_world_size=1\n",
            "  local_ranks=[0]\n",
            "  role_ranks=[0]\n",
            "  global_ranks=[0]\n",
            "  role_world_sizes=[1]\n",
            "  global_world_sizes=[1]\n",
            "\n",
            "INFO:torch.distributed.elastic.agent.server.api:[default] Starting worker group\n",
            "INFO:torch.distributed.elastic.multiprocessing:Setting worker0 reply file to: /tmp/torchelastic_uc1fczap/none_at68c7ke/attempt_3/0/error.json\n",
            "=> merge config from configs/swin_tiny_patch4_window7_224.yaml\n",
            "Traceback (most recent call last):\n",
            "  File \"main.py\", line 302, in <module>\n",
            "    assert amp is not None, \"amp not installed!\"\n",
            "AssertionError: amp not installed!\n",
            "ERROR:torch.distributed.elastic.multiprocessing.api:failed (exitcode: 1) local_rank: 0 (pid: 700) of binary: /usr/bin/python3\n",
            "ERROR:torch.distributed.elastic.agent.server.local_elastic_agent:[default] Worker group failed\n",
            "INFO:torch.distributed.elastic.agent.server.api:Local worker group finished (FAILED). Waiting 300 seconds for other agents to finish\n",
            "/usr/local/lib/python3.7/dist-packages/torch/distributed/elastic/utils/store.py:71: FutureWarning: This is an experimental API and will be changed in future.\n",
            "  \"This is an experimental API and will be changed in future.\", FutureWarning\n",
            "INFO:torch.distributed.elastic.agent.server.api:Done waiting for other agents. Elapsed: 0.0004665851593017578 seconds\n",
            "{\"name\": \"torchelastic.worker.status.FAILED\", \"source\": \"WORKER\", \"timestamp\": 0, \"metadata\": {\"run_id\": \"none\", \"global_rank\": 0, \"group_rank\": 0, \"worker_id\": \"700\", \"role\": \"default\", \"hostname\": \"37db76000a2d\", \"state\": \"FAILED\", \"total_run_time\": 20, \"rdzv_backend\": \"static\", \"raw_error\": \"{\\\"message\\\": \\\"<NONE>\\\"}\", \"metadata\": \"{\\\"group_world_size\\\": 1, \\\"entry_point\\\": \\\"python3\\\", \\\"local_rank\\\": [0], \\\"role_rank\\\": [0], \\\"role_world_size\\\": [1]}\", \"agent_restarts\": 3}}\n",
            "{\"name\": \"torchelastic.worker.status.SUCCEEDED\", \"source\": \"AGENT\", \"timestamp\": 0, \"metadata\": {\"run_id\": \"none\", \"global_rank\": null, \"group_rank\": 0, \"worker_id\": null, \"role\": \"default\", \"hostname\": \"37db76000a2d\", \"state\": \"SUCCEEDED\", \"total_run_time\": 20, \"rdzv_backend\": \"static\", \"raw_error\": null, \"metadata\": \"{\\\"group_world_size\\\": 1, \\\"entry_point\\\": \\\"python3\\\"}\", \"agent_restarts\": 3}}\n",
            "/usr/local/lib/python3.7/dist-packages/torch/distributed/elastic/multiprocessing/errors/__init__.py:354: UserWarning: \n",
            "\n",
            "**********************************************************************\n",
            "               CHILD PROCESS FAILED WITH NO ERROR_FILE                \n",
            "**********************************************************************\n",
            "CHILD PROCESS FAILED WITH NO ERROR_FILE\n",
            "Child process 700 (local_rank 0) FAILED (exitcode 1)\n",
            "Error msg: Process failed with exitcode 1\n",
            "Without writing an error file to <N/A>.\n",
            "While this DOES NOT affect the correctness of your application,\n",
            "no trace information about the error will be available for inspection.\n",
            "Consider decorating your top level entrypoint function with\n",
            "torch.distributed.elastic.multiprocessing.errors.record. Example:\n",
            "\n",
            "  from torch.distributed.elastic.multiprocessing.errors import record\n",
            "\n",
            "  @record\n",
            "  def trainer_main(args):\n",
            "     # do train\n",
            "**********************************************************************\n",
            "  warnings.warn(_no_error_file_warning_msg(rank, failure))\n",
            "Traceback (most recent call last):\n",
            "  File \"/usr/lib/python3.7/runpy.py\", line 193, in _run_module_as_main\n",
            "    \"__main__\", mod_spec)\n",
            "  File \"/usr/lib/python3.7/runpy.py\", line 85, in _run_code\n",
            "    exec(code, run_globals)\n",
            "  File \"/usr/local/lib/python3.7/dist-packages/torch/distributed/launch.py\", line 173, in <module>\n",
            "    main()\n",
            "  File \"/usr/local/lib/python3.7/dist-packages/torch/distributed/launch.py\", line 169, in main\n",
            "    run(args)\n",
            "  File \"/usr/local/lib/python3.7/dist-packages/torch/distributed/run.py\", line 624, in run\n",
            "    )(*cmd_args)\n",
            "  File \"/usr/local/lib/python3.7/dist-packages/torch/distributed/launcher/api.py\", line 116, in __call__\n",
            "    return launch_agent(self._config, self._entrypoint, list(args))\n",
            "  File \"/usr/local/lib/python3.7/dist-packages/torch/distributed/elastic/multiprocessing/errors/__init__.py\", line 348, in wrapper\n",
            "    return f(*args, **kwargs)\n",
            "  File \"/usr/local/lib/python3.7/dist-packages/torch/distributed/launcher/api.py\", line 247, in launch_agent\n",
            "    failures=result.failures,\n",
            "torch.distributed.elastic.multiprocessing.errors.ChildFailedError: \n",
            "***************************************\n",
            "             main.py FAILED            \n",
            "=======================================\n",
            "Root Cause:\n",
            "[0]:\n",
            "  time: 2021-09-14_05:44:44\n",
            "  rank: 0 (local_rank: 0)\n",
            "  exitcode: 1 (pid: 700)\n",
            "  error_file: <N/A>\n",
            "  msg: \"Process failed with exitcode 1\"\n",
            "=======================================\n",
            "Other Failures:\n",
            "  <NO_OTHER_FAILURES>\n",
            "***************************************\n",
            "\n"
          ]
        }
      ]
    },
    {
      "cell_type": "code",
      "metadata": {
        "id": "LbuMEjAfNJsi"
      },
      "source": [
        ""
      ],
      "execution_count": null,
      "outputs": []
    },
    {
      "cell_type": "code",
      "metadata": {
        "id": "IFcZ7UujNJy0"
      },
      "source": [
        ""
      ],
      "execution_count": null,
      "outputs": []
    },
    {
      "cell_type": "code",
      "metadata": {
        "id": "rLWaeCcINJ_1"
      },
      "source": [
        ""
      ],
      "execution_count": null,
      "outputs": []
    }
  ]
}