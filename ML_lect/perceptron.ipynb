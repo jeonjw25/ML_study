{
 "cells": [
  {
   "cell_type": "markdown",
   "source": [
    "# 1. Perceptron \r\n",
    "\r\n",
    "![image](https://user-images.githubusercontent.com/54730375/137346867-c9c4d335-5560-4d13-92c6-a6d346bbcaf8.png)"
   ],
   "metadata": {}
  },
  {
   "cell_type": "code",
   "execution_count": 1,
   "source": [
    "import torch\r\n",
    "import numpy as np\r\n",
    "\r\n",
    "class Perceptron():\r\n",
    "    def __init__(self, thresholds= 0.0, eta= 0.01, n_iter=10): \r\n",
    "        self.thresholds = thresholds                           # threshholds -> 임계값\r\n",
    "        self.eta = eta                                           # eta -> learning rate(변화시키는 wegit값 크기)\r\n",
    "        self.n_iter = n_iter                                     # n_iter -> 전체를 학습시키는 횟수\r\n",
    "    \r\n",
    "   \r\n",
    "    def fit(self, X, y):\r\n",
    "        self.w_ = np.zeros(1+X.shape[1])                         # w_ -> 가중치 갯수\r\n",
    "        self.errors_ = []                                       # ex) X = 4*2 인경우 X.shape = (4,2), X.shape[1] = 2, w_ = [0,0,0]\r\n",
    "                                                                 # errors -> 머신러닝 반복횟수에 따라 예측값과 실제 결과값이 댜른 오류횟수 저장할 변수\r\n",
    "        \r\n",
    "        for _ in range(self.n_iter):                             # self.n_iter 만큼 반복학습.\r\n",
    "            errors = 0                                           # errors(초기오류횟수) = 0\r\n",
    "            for xi, target in zip(X,y):                          # 트레이닝 데이터셋 X와 결과값 y를 각각 xi, target 변수에 대입.\r\n",
    "                update = self.eta * (target-self.predict(xi))    # 실제 결과값과 예측값에 대한 활성함수 리턴값이 같아지면 update = 0\r\n",
    "                self.w_[1:] += update*xi                         # 가중치 업데이트\r\n",
    "                self.w_[0] += update                             # w[0]는 bias 라서 update만 더함\r\n",
    "                errors += int(update != 0.0)                     # update != 0 이면 애러 횟수 1 증가\r\n",
    "            self.errors_.append(errors)                          # 배열에 발생한 오류횟수 추가\r\n",
    "            print(self.w_)\r\n",
    "        \r\n",
    "        return self\r\n",
    "    \r\n",
    "    def net_input(self, X):\r\n",
    "        return np.dot(X, self.w_[1:]) + self.w_[0]               # 입력 데이터와 가중치의 곱 계산\r\n",
    "                                                                 # np.dot -> 두 벡터의 내적 혹은 행렬의 곱을 리턴.\r\n",
    "    \r\n",
    "    def predict(self, X):                                       # 활성함수 구현\r\n",
    "        return np.where(self.net_input(X) > self.thresholds, 1, -1) # 입력함수의 결과값이 임계값보다 크면 1, 그렇지않으면 -1을 리턴\r\n",
    "    \r\n",
    "    \r\n",
    "   "
   ],
   "outputs": [],
   "metadata": {}
  },
  {
   "cell_type": "markdown",
   "source": [
    "# AND 연산 구현"
   ],
   "metadata": {}
  },
  {
   "cell_type": "code",
   "execution_count": 2,
   "source": [
    "X = np.array([[0, 0], [0, 1], [1, 0], [1, 1]])                  # 트레이닝 데이터 정의 차원: (4, 2)\r\n",
    "y = np.array([-1, -1, -1, 1])                                   # 결과값 정의\r\n",
    "\r\n",
    "ppn = Perceptron(eta = 0.1)\r\n",
    "ppn.fit(X, y)\r\n",
    "print(ppn.errors_)"
   ],
   "outputs": [
    {
     "output_type": "stream",
     "name": "stdout",
     "text": [
      "[0.2 0.2 0.2]\n",
      "[0.  0.4 0.2]\n",
      "[-0.2  0.4  0.2]\n",
      "[-0.2  0.4  0.4]\n",
      "[-0.4  0.4  0.2]\n",
      "[-0.4  0.4  0.2]\n",
      "[-0.4  0.4  0.2]\n",
      "[-0.4  0.4  0.2]\n",
      "[-0.4  0.4  0.2]\n",
      "[-0.4  0.4  0.2]\n",
      "[1, 3, 3, 2, 1, 0, 0, 0, 0, 0]\n"
     ]
    }
   ],
   "metadata": {}
  },
  {
   "cell_type": "markdown",
   "source": [
    "# NN과 선형대수 관점\r\n",
    "\r\n",
    "![image](https://user-images.githubusercontent.com/54730375/137443137-59caf964-43ed-4fcc-956b-37f8a283cb03.png)\r\n",
    "\r\n",
    "\r\n",
    "<br> \r\n",
    "\r\n",
    "![image](https://user-images.githubusercontent.com/54730375/137442185-0e165550-39fd-432b-94ae-8eaea1cabd3a.png)\r\n",
    "\r\n",
    "\r\n"
   ],
   "metadata": {}
  }
 ],
 "metadata": {
  "orig_nbformat": 4,
  "language_info": {
   "name": "python",
   "version": "3.8.11",
   "mimetype": "text/x-python",
   "codemirror_mode": {
    "name": "ipython",
    "version": 3
   },
   "pygments_lexer": "ipython3",
   "nbconvert_exporter": "python",
   "file_extension": ".py"
  },
  "kernelspec": {
   "name": "python3",
   "display_name": "Python 3.8.11 64-bit ('base': conda)"
  },
  "interpreter": {
   "hash": "b3ba2566441a7c06988d0923437866b63cedc61552a5af99d1f4fb67d367b25f"
  }
 },
 "nbformat": 4,
 "nbformat_minor": 2
}